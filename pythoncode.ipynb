{
 "cells": [
  {
   "cell_type": "code",
   "execution_count": 1,
   "metadata": {},
   "outputs": [
    {
     "name": "stdin",
     "output_type": "stream",
     "text": [
      "What's your name good sir...? melanie\n"
     ]
    },
    {
     "name": "stdout",
     "output_type": "stream",
     "text": [
      "SO I SEEE!!!\n"
     ]
    },
    {
     "name": "stdin",
     "output_type": "stream",
     "text": [
      "What's your desired age...? 0\n"
     ]
    },
    {
     "name": "stdout",
     "output_type": "stream",
     "text": [
      "I CANT BELIEVE YOU WANNA BE 0.0 YEARS OLD!!! YOU OLD MAN melanie\n"
     ]
    }
   ],
   "source": [
    "name_input = input(\"What's your name good sir...?\")\n",
    "print(\"SO I SEEE!!!\")\n",
    "age_input = input(\"What's your desired age...?\")\n",
    "age_input = float(age_input)\n",
    "age_input = age_input * 100;\n",
    "print(\"I CANT BELIEVE YOU WANNA BE\",age_input,\"YEARS OLD!!! YOU OLD MAN\",name_input)"
   ]
  },
  {
   "cell_type": "code",
   "execution_count": null,
   "metadata": {},
   "outputs": [],
   "source": []
  }
 ],
 "metadata": {
  "kernelspec": {
   "display_name": "Python 3.7",
   "language": "python",
   "name": "python3"
  },
  "language_info": {
   "codemirror_mode": {
    "name": "ipython",
    "version": 3
   },
   "file_extension": ".py",
   "mimetype": "text/x-python",
   "name": "python",
   "nbconvert_exporter": "python",
   "pygments_lexer": "ipython3",
   "version": "3.7.0"
  }
 },
 "nbformat": 4,
 "nbformat_minor": 2
}
